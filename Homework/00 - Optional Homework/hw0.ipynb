{
 "cells": [
  {
   "cell_type": "markdown",
   "id": "df2c726a-a02a-4765-83b0-25b026b69fa8",
   "metadata": {},
   "source": [
    "### Imports\n",
    "---"
   ]
  },
  {
   "cell_type": "code",
   "execution_count": 19,
   "id": "1a3b5bf2-3f43-44bf-bc81-6279c4ade644",
   "metadata": {},
   "outputs": [],
   "source": [
    "import pandas as pd\n",
    "import numpy as np\n",
    "from functools import reduce"
   ]
  },
  {
   "cell_type": "markdown",
   "id": "c61b3e0f-e8e6-4eee-a215-14bdccee8cb5",
   "metadata": {},
   "source": [
    "### Load the data\n",
    "---"
   ]
  },
  {
   "cell_type": "code",
   "execution_count": 2,
   "id": "2fd1f6ab-7349-407e-82cb-4822595042b3",
   "metadata": {},
   "outputs": [],
   "source": [
    "df = (\n",
    "    pd.read_csv(\"interactive_data.csv\", header=0)\n",
    "    .drop(columns=\"Unnamed: 0\")\n",
    ")"
   ]
  },
  {
   "cell_type": "markdown",
   "id": "b49e12c1-cd0a-49fd-b13e-e7b50f7f0bcd",
   "metadata": {},
   "source": [
    "### Exploratory data analysis\n",
    "---"
   ]
  },
  {
   "cell_type": "code",
   "execution_count": 3,
   "id": "2a4ada0a-8f25-485b-abea-547bc0731864",
   "metadata": {},
   "outputs": [
    {
     "data": {
      "text/plain": [
       "(540, 7)"
      ]
     },
     "execution_count": 3,
     "metadata": {},
     "output_type": "execute_result"
    }
   ],
   "source": [
    "df.shape"
   ]
  },
  {
   "cell_type": "code",
   "execution_count": 4,
   "id": "b91f538f-7262-4ea0-bff5-f97a8e6305d3",
   "metadata": {},
   "outputs": [
    {
     "data": {
      "text/html": [
       "<div>\n",
       "<style scoped>\n",
       "    .dataframe tbody tr th:only-of-type {\n",
       "        vertical-align: middle;\n",
       "    }\n",
       "\n",
       "    .dataframe tbody tr th {\n",
       "        vertical-align: top;\n",
       "    }\n",
       "\n",
       "    .dataframe thead th {\n",
       "        text-align: right;\n",
       "    }\n",
       "</style>\n",
       "<table border=\"1\" class=\"dataframe\">\n",
       "  <thead>\n",
       "    <tr style=\"text-align: right;\">\n",
       "      <th></th>\n",
       "      <th>Intent</th>\n",
       "      <th>Gender</th>\n",
       "      <th>Age</th>\n",
       "      <th>Race</th>\n",
       "      <th>Deaths</th>\n",
       "      <th>Population</th>\n",
       "      <th>Rate</th>\n",
       "    </tr>\n",
       "  </thead>\n",
       "  <tbody>\n",
       "    <tr>\n",
       "      <th>0</th>\n",
       "      <td>None selected</td>\n",
       "      <td>None selected</td>\n",
       "      <td>None selected</td>\n",
       "      <td>None selected</td>\n",
       "      <td>33599</td>\n",
       "      <td>316299978</td>\n",
       "      <td>10.6</td>\n",
       "    </tr>\n",
       "    <tr>\n",
       "      <th>1</th>\n",
       "      <td>None selected</td>\n",
       "      <td>None selected</td>\n",
       "      <td>None selected</td>\n",
       "      <td>White</td>\n",
       "      <td>22079</td>\n",
       "      <td>197369634</td>\n",
       "      <td>11.2</td>\n",
       "    </tr>\n",
       "    <tr>\n",
       "      <th>2</th>\n",
       "      <td>None selected</td>\n",
       "      <td>None selected</td>\n",
       "      <td>None selected</td>\n",
       "      <td>Black</td>\n",
       "      <td>7765</td>\n",
       "      <td>38896382</td>\n",
       "      <td>20.0</td>\n",
       "    </tr>\n",
       "    <tr>\n",
       "      <th>3</th>\n",
       "      <td>None selected</td>\n",
       "      <td>None selected</td>\n",
       "      <td>None selected</td>\n",
       "      <td>Hispanic</td>\n",
       "      <td>3007</td>\n",
       "      <td>54049078</td>\n",
       "      <td>5.6</td>\n",
       "    </tr>\n",
       "    <tr>\n",
       "      <th>4</th>\n",
       "      <td>None selected</td>\n",
       "      <td>None selected</td>\n",
       "      <td>None selected</td>\n",
       "      <td>Asian/Pacific Islander</td>\n",
       "      <td>442</td>\n",
       "      <td>16315561</td>\n",
       "      <td>2.7</td>\n",
       "    </tr>\n",
       "  </tbody>\n",
       "</table>\n",
       "</div>"
      ],
      "text/plain": [
       "          Intent         Gender            Age                    Race  \\\n",
       "0  None selected  None selected  None selected           None selected   \n",
       "1  None selected  None selected  None selected                   White   \n",
       "2  None selected  None selected  None selected                   Black   \n",
       "3  None selected  None selected  None selected                Hispanic   \n",
       "4  None selected  None selected  None selected  Asian/Pacific Islander   \n",
       "\n",
       "   Deaths  Population  Rate  \n",
       "0   33599   316299978  10.6  \n",
       "1   22079   197369634  11.2  \n",
       "2    7765    38896382  20.0  \n",
       "3    3007    54049078   5.6  \n",
       "4     442    16315561   2.7  "
      ]
     },
     "execution_count": 4,
     "metadata": {},
     "output_type": "execute_result"
    }
   ],
   "source": [
    "df.head(5)"
   ]
  },
  {
   "cell_type": "code",
   "execution_count": 26,
   "id": "ceb82d4e-6513-4f8b-8879-e51c75b17936",
   "metadata": {},
   "outputs": [
    {
     "data": {
      "text/plain": [
       "['None selected', 'Under 15', '15 - 34', '35 - 64', '65+', '5']"
      ]
     },
     "execution_count": 26,
     "metadata": {},
     "output_type": "execute_result"
    }
   ],
   "source": [
    "(\n",
    "    df[\"Age\"]\n",
    "    .unique()\n",
    "    .tolist()\n",
    ")"
   ]
  },
  {
   "cell_type": "markdown",
   "id": "650e4fe5-1ff1-4ecb-85d7-5cd95ad746c8",
   "metadata": {},
   "source": [
    "### Preprocessing / Cleaning\n",
    "---"
   ]
  },
  {
   "cell_type": "markdown",
   "id": "f7430a1b-f428-4013-af26-a0db475dbb00",
   "metadata": {},
   "source": [
    "No need as the dataset was already cleaned."
   ]
  },
  {
   "cell_type": "markdown",
   "id": "8d00ee76-84a8-4822-a59c-fe30d9e6f5aa",
   "metadata": {},
   "source": [
    "### Answering questions\n",
    "---"
   ]
  },
  {
   "cell_type": "markdown",
   "id": "847c5cbd-7949-4adf-8d77-a4f0df59a98b",
   "metadata": {},
   "source": [
    "#### Nearly two-thirds of gun deaths are suicides"
   ]
  },
  {
   "cell_type": "code",
   "execution_count": 21,
   "id": "796427f1-350f-420e-af94-7b9c8c3279f3",
   "metadata": {},
   "outputs": [
    {
     "data": {
      "text/plain": [
       "'62.67 %'"
      ]
     },
     "execution_count": 21,
     "metadata": {},
     "output_type": "execute_result"
    }
   ],
   "source": [
    "# All deaths\n",
    "all_deaths = [\n",
    "    df[\"Intent\"] == 'None selected',\n",
    "    df[\"Gender\"] == 'None selected',\n",
    "    df[\"Age\"] == 'None selected',\n",
    "    df[\"Race\"] == 'None selected',\n",
    "]\n",
    "\n",
    "all_deaths_v = df[reduce(np.logical_and, all_deaths)][\"Deaths\"].values[0]\n",
    "\n",
    "# Suicides\n",
    "suicides = [\n",
    "    df[\"Intent\"] == 'Suicide',\n",
    "    df[\"Gender\"] == 'None selected',\n",
    "    df[\"Age\"] == 'None selected',\n",
    "    df[\"Race\"] == 'None selected',\n",
    "]\n",
    "suicides_v = df[reduce(np.logical_and, suicides)][\"Deaths\"].values[0]\n",
    "\n",
    "# Result\n",
    "\"{result:.2f} %\".format(result=100*(suicides_v / all_deaths_v))"
   ]
  },
  {
   "cell_type": "markdown",
   "id": "e99fe3d1-e33f-4eec-accd-df03b89abf0a",
   "metadata": {},
   "source": [
    "#### More than 85 percent of suicide victims are male"
   ]
  },
  {
   "cell_type": "code",
   "execution_count": 22,
   "id": "99ab37c4-665d-4579-a758-e1b04e9e63cd",
   "metadata": {},
   "outputs": [
    {
     "data": {
      "text/plain": [
       "'86.25 %'"
      ]
     },
     "execution_count": 22,
     "metadata": {},
     "output_type": "execute_result"
    }
   ],
   "source": [
    "# Suicides\n",
    "male_suicides = [\n",
    "    df[\"Intent\"] == 'Suicide',\n",
    "    df[\"Gender\"] == 'Male',\n",
    "    df[\"Age\"] == 'None selected',\n",
    "    df[\"Race\"] == 'None selected',\n",
    "]\n",
    "male_suicides_v = df[reduce(np.logical_and, male_suicides)][\"Deaths\"].values[0]\n",
    "\n",
    "# Result\n",
    "\"{result:.2f} %\".format(result=100*(male_suicides_v / suicides_v))"
   ]
  },
  {
   "cell_type": "markdown",
   "id": "691ddf39-3126-46a6-b956-6418c86e4f70",
   "metadata": {},
   "source": [
    "#### Around a third of all gun deaths are homicides"
   ]
  },
  {
   "cell_type": "code",
   "execution_count": 25,
   "id": "ded1ed58-d6c4-42f9-999e-71efc5ecd315",
   "metadata": {},
   "outputs": [
    {
     "data": {
      "text/plain": [
       "'34.90 %'"
      ]
     },
     "execution_count": 25,
     "metadata": {},
     "output_type": "execute_result"
    }
   ],
   "source": [
    "# Homicides\n",
    "homicides = [\n",
    "    df[\"Intent\"] == 'Homicide',\n",
    "    df[\"Gender\"] == 'None selected',\n",
    "    df[\"Age\"] == 'None selected',\n",
    "    df[\"Race\"] == 'None selected',\n",
    "]\n",
    "homicides_v = df[reduce(np.logical_and, homicides)][\"Deaths\"].values[0]\n",
    "\n",
    "# Result\n",
    "\"{result:.2f} %\".format(result=100*(homicides_v / all_deaths_v))"
   ]
  },
  {
   "cell_type": "markdown",
   "id": "241a0b69-b737-4051-8782-c8ff0744d9f3",
   "metadata": {},
   "source": [
    "#### Around two-thirds of homicide victims who are males in the age-group of 15--34 are black"
   ]
  },
  {
   "cell_type": "code",
   "execution_count": 28,
   "id": "2788c2ad-6cb0-4db2-bcd8-d500778b904b",
   "metadata": {},
   "outputs": [
    {
     "data": {
      "text/plain": [
       "'66.13 %'"
      ]
     },
     "execution_count": 28,
     "metadata": {},
     "output_type": "execute_result"
    }
   ],
   "source": [
    "homicides_male_1534 = [\n",
    "    df[\"Intent\"] == 'Homicide',\n",
    "    df[\"Gender\"] == 'Male',\n",
    "    df[\"Age\"] == '15 - 34',\n",
    "    df[\"Race\"] == 'None selected',\n",
    "]\n",
    "homicides_male_1534_v = df[reduce(np.logical_and, homicides_male_1534)][\"Deaths\"].values[0]\n",
    "\n",
    "homicides_male_1534_black = [\n",
    "    df[\"Intent\"] == 'Homicide',\n",
    "    df[\"Gender\"] == 'Male',\n",
    "    df[\"Age\"] == '15 - 34',\n",
    "    df[\"Race\"] == 'Black',\n",
    "]\n",
    "homicides_male_1534_black_v = df[reduce(np.logical_and, homicides_male_1534_black)][\"Deaths\"].values[0]\n",
    "\n",
    "# Result\n",
    "\"{result:.2f} %\".format(result=100*(homicides_male_1534_black_v / homicides_male_1534_v))"
   ]
  },
  {
   "cell_type": "markdown",
   "id": "7a0e1854-81f9-46a0-ac20-5b017970c506",
   "metadata": {},
   "source": [
    "#### Women constitue only 15 percent of the total homicide victims"
   ]
  },
  {
   "cell_type": "code",
   "execution_count": 29,
   "id": "9180a3ac-4d30-4d97-af1a-91f7e9a47d38",
   "metadata": {},
   "outputs": [
    {
     "data": {
      "text/plain": [
       "'15.27 %'"
      ]
     },
     "execution_count": 29,
     "metadata": {},
     "output_type": "execute_result"
    }
   ],
   "source": [
    "female_homicide = [\n",
    "    df[\"Intent\"] == 'Homicide',\n",
    "    df[\"Gender\"] == 'Female',\n",
    "    df[\"Age\"] == 'None selected',\n",
    "    df[\"Race\"] == 'None selected',\n",
    "]\n",
    "female_homicides_v = df[reduce(np.logical_and, female_homicide)][\"Deaths\"].values[0]\n",
    "\n",
    "# Result\n",
    "\"{result:.2f} %\".format(result=100*(female_homicides_v / homicides_v))"
   ]
  },
  {
   "cell_type": "markdown",
   "id": "6ab084a2-7c5f-4f90-9751-3840b8fbb209",
   "metadata": {},
   "source": [
    "---"
   ]
  }
 ],
 "metadata": {
  "kernelspec": {
   "display_name": "Python 3",
   "language": "python",
   "name": "python3"
  },
  "language_info": {
   "codemirror_mode": {
    "name": "ipython",
    "version": 3
   },
   "file_extension": ".py",
   "mimetype": "text/x-python",
   "name": "python",
   "nbconvert_exporter": "python",
   "pygments_lexer": "ipython3",
   "version": "3.8.5"
  }
 },
 "nbformat": 4,
 "nbformat_minor": 5
}
