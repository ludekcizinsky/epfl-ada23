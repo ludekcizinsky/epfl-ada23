{
 "cells": [
  {
   "cell_type": "markdown",
   "id": "a33e25a2-463a-47b7-9ece-d87800beee03",
   "metadata": {},
   "source": [
    "# Homework 1: A sinister homework\n",
    "\n",
    "By the end of this homework, we expect you to be able to:\n",
    "\n",
    "1. Load data and handle data using pandas;\n",
    "2. Navigate the documentation of Python packages by yourself;\n",
    "3. Filter and tidy up noisy real-world datasets;\n",
    "4. Aggregate your data in different (and hopefully helpful) ways;\n",
    "5. Create meaningful visualizations to analyze the data;\n",
    "6. Communicate your findings in a clear and concise manner\n",
    "\n",
    "\n",
    "---\n",
    "\n",
    "## Important Dates\n",
    "- Homework release: Fri 13 Oct 2023\n",
    "- **Homework due:** Fri 27 Oct 2023, 23:59\n",
    "- Grade release: Mon 06 Nov 2023\n",
    "\n",
    "---\n",
    "\n",
    "## Some rules\n",
    "1. You are allowed to use any built-in Python library that comes with Anaconda. If you want to use an external library, you may do so, but must justify your choice.\n",
    "\n",
    "2. Make sure you use the `data` folder provided in the repository in read-only mode. (Or alternatively, be sure you don’t change any of the files.)\n",
    "\n",
    "3. Be sure to provide a concise textual description of your thought process, the assumptions you made, the solution you implemented, and explanations for your answers. A notebook that only has code cells will not suffice.\n",
    "\n",
    "4. For questions containing the **/Discuss:/** prefix, answer not with code, but with a textual explanation **(in markdown)**.\n",
    "\n",
    "5. Back up any hypotheses and claims with data, since this is an important aspect of the course.\n",
    "\n",
    "6. Please write all your comments in **English**, and use meaningful variable names in your code. Your repo should have a single notebook (plus the required data files) in the master/main branch. **If there are multiple notebooks present, we will not grade anything.**\n",
    "\n",
    "7. We will **not run your notebook for you!** Rather, we will grade it as is, which means that only the results contained in your evaluated code cells will be considered, and we will not see the results in unevaluated code cells. Thus, be sure to hand in a **fully-run and evaluated notebook**. In order to check whether everything looks as intended, you can check the rendered notebook on the GitHub website once you have pushed your solution there.\n",
    "\n",
    "8. In continuation to the previous point, interactive plots, such as those generated using the `plotly` package, should be strictly avoided!\n",
    "\n",
    "9. Make sure to print results and/or dataframes that confirm you have properly addressed the task.\n",
    "\n",
    "\n",
    "---\n",
    "\n",
    "##  Context\n",
    "\n",
    "Congratulations! You have just been hired as a data scientist at \"The ByteBlasters\", EPFL’s amateur baseball club. The team's manager, Mr. Russo, an eccentric millionaire with an innovative plan to dominate the Swiss baseball league, believes hiring left-handed pitchers (the people who throw the ball) will likely boost the team's performance. Yet, he is concerned about money, as he heard left-handed pitchers have historically earned more!\n",
    "\n",
    "He tasked you to investigate this \"sinister\" issue and gave you some openly available data on the birthplace of this beautiful, dynamic sport --- the US.\n",
    "\n",
    "**About the homework.** This homework consists of four tasks. In Task 0, you will familiarize yourself with the rules of baseball. In Task 1, you will process the data, getting it ready for analysis. In Task 2, you will analyze the data to answer Mr. Russo’s question. Lastly, in Task 3, you will conduct additional analyses that consider the longitudinal nature of the data."
   ]
  },
  {
   "cell_type": "code",
   "execution_count": 1,
   "id": "20692bb8-890b-4b21-a73b-5d9587129cde",
   "metadata": {
    "tags": []
   },
   "outputs": [],
   "source": [
    "import pandas as pd\n",
    "import numpy as np\n",
    "import matplotlib.pyplot as plt\n",
    "from IPython.display import YouTubeVideo\n"
   ]
  },
  {
   "cell_type": "markdown",
   "id": "daa9a3d0",
   "metadata": {},
   "source": [
    "# Task 0 (Ungraded): Baseball 101\n",
    "\n",
    "**0.1 —** Familiarize yourself with the data; we won't explain the data in-depth in this notebook. Instead, you should take your time to read the readme.txt file inside the data folder. Note that this data is available on [GitHub](https://github.com/chadwickbureau/baseballdatabank).\n",
    "\n",
    "**0.2 —** Familiarize yourself with basic baseball rules. We will explain everything you need to know, but it will be helpful to get a basic understanding of it. Watching the video below should be enough! (Also available [here](https://www.youtube.com/watch?v=WMA8L5OpuDY).)\n",
    "\n",
    "A couple of useful things to remember:\n",
    "- **Pitchers** (try to) throw the ball\n",
    "- **Batters** (try to) hit the ball with the bat\n",
    "- **Catchers** (try to) catch the ball.\n"
   ]
  },
  {
   "cell_type": "code",
   "execution_count": null,
   "id": "0e7c1656",
   "metadata": {},
   "outputs": [],
   "source": [
    "YouTubeVideo('WMA8L5OpuDY', width=800, height=300)"
   ]
  },
  {
   "cell_type": "markdown",
   "id": "a945475b",
   "metadata": {},
   "source": [
    "---\n",
    "\n",
    "# Task 1 (16 pts): Get to Know Your Data\n",
    "\n",
    "As a good data scientist, you first load the data and perform some small sanity checks on it.\n",
    "\n",
    "1. You are expected to continuously alter your dataframe as you complete the tasks. E.g., if you are asked to filter the data in a specific task, continue using the filtered dataset in the subsequent tasks.\n",
    "2. When we tell you to \"print the dataframe,\" make sure you print it in a way that shows the total number of rows and columns in it (`display(df)` should suffice).\n",
    "\n",
    "---"
   ]
  },
  {
   "cell_type": "markdown",
   "id": "d7c6482a",
   "metadata": {},
   "source": [
    "**1.1 —** Load the `People`, `Salaries`, and `Pitching` dataframes. Then:\n",
    "- Filter the `Salaries`, and `Pitching` dataframes to remove all data after the year 2010.\n",
    "- For the `Salaries` dataframe drop all duplicate salaries for players in a given year. In other words, if a player (uniquely identified by `PlayerID`) has multiple salaries in a year (`yearID`), keep the first occurence in the dataframe and drop the remaining.\n",
    "- Calculate the size of each dataframe. \n",
    "\n",
    "Make [deep copies](https://pandas.pydata.org/docs/reference/api/pandas.DataFrame.copy.html) of all dataframes as you filter them.\n",
    "\n",
    "Hints:\n",
    "- 2007 should be included in the data.\n",
    "- 2010 should be included in the data.\n",
    "- 2011 should not be included in the data."
   ]
  },
  {
   "cell_type": "code",
   "execution_count": 6,
   "id": "9ea03ef5",
   "metadata": {},
   "outputs": [],
   "source": [
    "# Load the data\n",
    "people = pd.read_csv('data/baseballdatabank-2023/core/People.csv')\n",
    "salaries = pd.read_csv('data/baseballdatabank-2023/contrib/Salaries.csv')\n",
    "pitching = pd.read_csv('data/baseballdatabank-2023/core/Pitching.csv')"
   ]
  },
  {
   "cell_type": "code",
   "execution_count": 12,
   "id": "fbecf16e",
   "metadata": {},
   "outputs": [
    {
     "name": "stdout",
     "output_type": "stream",
     "text": [
      "People: 496224\n",
      "Salaries: 106755\n",
      "Pitching: 106755\n"
     ]
    }
   ],
   "source": [
    "# For salaries and pitching, we only want data until 2010 (included)\n",
    "salaries = salaries[salaries['yearID'] <= 2010].copy(deep=True)\n",
    "pitching = pitching[pitching['yearID'] <= 2010].copy(deep=True)\n",
    "\n",
    "# For each player, make sure we have only one salary per year\n",
    "# We keep the first one that occurs within the dataframe\n",
    "salaries = salaries.groupby(['playerID', 'yearID']).first().reset_index().copy(deep=True)\n",
    "\n",
    "# Finally, calculate the size of each dataframe\n",
    "print('People:', people.size)\n",
    "print('Salaries:', salaries.size)\n",
    "print('Pitching:', salaries.size)"
   ]
  },
  {
   "cell_type": "markdown",
   "id": "52aadc50",
   "metadata": {},
   "source": [
    "**1.2 —** The `throws` column in the `People` dataframe indicates, for each player, whether they throw with the left (\"L\") or right hand (\"R\"). Check what values are in the column and drop rows containing any value that is not \"L\" or \"R,\" again, make a deep copy when you filter the dataframe.\n",
    "\n",
    "Hint: Remember NaNs!"
   ]
  },
  {
   "cell_type": "code",
   "execution_count": 15,
   "id": "97f83c11",
   "metadata": {},
   "outputs": [
    {
     "data": {
      "text/plain": [
       "array(['R', 'L'], dtype=object)"
      ]
     },
     "execution_count": 15,
     "metadata": {},
     "output_type": "execute_result"
    }
   ],
   "source": [
    "# Create mask with valid types of throws\n",
    "valid_throws = (people['throws'].isin(['R', 'L'])) | (people.throws.isna())\n",
    "\n",
    "# Keep only the valid throw types\n",
    "people = people[valid_throws].copy(deep=True)\n",
    "\n",
    "# Run a quick check\n",
    "people['throws'].unique()"
   ]
  },
  {
   "cell_type": "markdown",
   "id": "c0b13ccc",
   "metadata": {},
   "source": [
    "**1.3 —** Merge the `People` dataframe with the `Pitching` dataframe. Your merge should populate the pitching data with statistics about the players. Print the resulting dataframe."
   ]
  },
  {
   "cell_type": "code",
   "execution_count": 18,
   "id": "d4fda43e",
   "metadata": {},
   "outputs": [
    {
     "data": {
      "text/plain": [
       "{'playerID'}"
      ]
     },
     "execution_count": 18,
     "metadata": {},
     "output_type": "execute_result"
    }
   ],
   "source": [
    "# Show the common column\n",
    "set(people.columns) & set(pitching.columns)"
   ]
  },
  {
   "cell_type": "code",
   "execution_count": 27,
   "id": "bc293b99",
   "metadata": {},
   "outputs": [
    {
     "data": {
      "text/html": [
       "<div>\n",
       "<style scoped>\n",
       "    .dataframe tbody tr th:only-of-type {\n",
       "        vertical-align: middle;\n",
       "    }\n",
       "\n",
       "    .dataframe tbody tr th {\n",
       "        vertical-align: top;\n",
       "    }\n",
       "\n",
       "    .dataframe thead th {\n",
       "        text-align: right;\n",
       "    }\n",
       "</style>\n",
       "<table border=\"1\" class=\"dataframe\">\n",
       "  <thead>\n",
       "    <tr style=\"text-align: right;\">\n",
       "      <th></th>\n",
       "      <th>playerID</th>\n",
       "      <th>birthYear</th>\n",
       "      <th>birthMonth</th>\n",
       "      <th>birthDay</th>\n",
       "      <th>birthCountry</th>\n",
       "      <th>birthState</th>\n",
       "      <th>birthCity</th>\n",
       "      <th>deathYear</th>\n",
       "      <th>deathMonth</th>\n",
       "      <th>deathDay</th>\n",
       "      <th>...</th>\n",
       "      <th>IBB</th>\n",
       "      <th>WP</th>\n",
       "      <th>HBP</th>\n",
       "      <th>BK</th>\n",
       "      <th>BFP</th>\n",
       "      <th>GF</th>\n",
       "      <th>R</th>\n",
       "      <th>SH</th>\n",
       "      <th>SF</th>\n",
       "      <th>GIDP</th>\n",
       "    </tr>\n",
       "  </thead>\n",
       "  <tbody>\n",
       "    <tr>\n",
       "      <th>0</th>\n",
       "      <td>aardsda01</td>\n",
       "      <td>1981.0</td>\n",
       "      <td>12.0</td>\n",
       "      <td>27.0</td>\n",
       "      <td>USA</td>\n",
       "      <td>CO</td>\n",
       "      <td>Denver</td>\n",
       "      <td>NaN</td>\n",
       "      <td>NaN</td>\n",
       "      <td>NaN</td>\n",
       "      <td>...</td>\n",
       "      <td>0.0</td>\n",
       "      <td>0</td>\n",
       "      <td>2.0</td>\n",
       "      <td>0</td>\n",
       "      <td>61.0</td>\n",
       "      <td>5</td>\n",
       "      <td>8</td>\n",
       "      <td>0.0</td>\n",
       "      <td>1.0</td>\n",
       "      <td>1.0</td>\n",
       "    </tr>\n",
       "    <tr>\n",
       "      <th>1</th>\n",
       "      <td>aardsda01</td>\n",
       "      <td>1981.0</td>\n",
       "      <td>12.0</td>\n",
       "      <td>27.0</td>\n",
       "      <td>USA</td>\n",
       "      <td>CO</td>\n",
       "      <td>Denver</td>\n",
       "      <td>NaN</td>\n",
       "      <td>NaN</td>\n",
       "      <td>NaN</td>\n",
       "      <td>...</td>\n",
       "      <td>0.0</td>\n",
       "      <td>1</td>\n",
       "      <td>1.0</td>\n",
       "      <td>0</td>\n",
       "      <td>225.0</td>\n",
       "      <td>9</td>\n",
       "      <td>25</td>\n",
       "      <td>1.0</td>\n",
       "      <td>3.0</td>\n",
       "      <td>2.0</td>\n",
       "    </tr>\n",
       "    <tr>\n",
       "      <th>2</th>\n",
       "      <td>aardsda01</td>\n",
       "      <td>1981.0</td>\n",
       "      <td>12.0</td>\n",
       "      <td>27.0</td>\n",
       "      <td>USA</td>\n",
       "      <td>CO</td>\n",
       "      <td>Denver</td>\n",
       "      <td>NaN</td>\n",
       "      <td>NaN</td>\n",
       "      <td>NaN</td>\n",
       "      <td>...</td>\n",
       "      <td>3.0</td>\n",
       "      <td>2</td>\n",
       "      <td>1.0</td>\n",
       "      <td>0</td>\n",
       "      <td>151.0</td>\n",
       "      <td>7</td>\n",
       "      <td>24</td>\n",
       "      <td>2.0</td>\n",
       "      <td>1.0</td>\n",
       "      <td>1.0</td>\n",
       "    </tr>\n",
       "    <tr>\n",
       "      <th>3</th>\n",
       "      <td>aardsda01</td>\n",
       "      <td>1981.0</td>\n",
       "      <td>12.0</td>\n",
       "      <td>27.0</td>\n",
       "      <td>USA</td>\n",
       "      <td>CO</td>\n",
       "      <td>Denver</td>\n",
       "      <td>NaN</td>\n",
       "      <td>NaN</td>\n",
       "      <td>NaN</td>\n",
       "      <td>...</td>\n",
       "      <td>2.0</td>\n",
       "      <td>3</td>\n",
       "      <td>5.0</td>\n",
       "      <td>0</td>\n",
       "      <td>228.0</td>\n",
       "      <td>7</td>\n",
       "      <td>32</td>\n",
       "      <td>3.0</td>\n",
       "      <td>2.0</td>\n",
       "      <td>4.0</td>\n",
       "    </tr>\n",
       "    <tr>\n",
       "      <th>4</th>\n",
       "      <td>aardsda01</td>\n",
       "      <td>1981.0</td>\n",
       "      <td>12.0</td>\n",
       "      <td>27.0</td>\n",
       "      <td>USA</td>\n",
       "      <td>CO</td>\n",
       "      <td>Denver</td>\n",
       "      <td>NaN</td>\n",
       "      <td>NaN</td>\n",
       "      <td>NaN</td>\n",
       "      <td>...</td>\n",
       "      <td>3.0</td>\n",
       "      <td>2</td>\n",
       "      <td>0.0</td>\n",
       "      <td>0</td>\n",
       "      <td>296.0</td>\n",
       "      <td>53</td>\n",
       "      <td>23</td>\n",
       "      <td>2.0</td>\n",
       "      <td>1.0</td>\n",
       "      <td>2.0</td>\n",
       "    </tr>\n",
       "    <tr>\n",
       "      <th>...</th>\n",
       "      <td>...</td>\n",
       "      <td>...</td>\n",
       "      <td>...</td>\n",
       "      <td>...</td>\n",
       "      <td>...</td>\n",
       "      <td>...</td>\n",
       "      <td>...</td>\n",
       "      <td>...</td>\n",
       "      <td>...</td>\n",
       "      <td>...</td>\n",
       "      <td>...</td>\n",
       "      <td>...</td>\n",
       "      <td>...</td>\n",
       "      <td>...</td>\n",
       "      <td>...</td>\n",
       "      <td>...</td>\n",
       "      <td>...</td>\n",
       "      <td>...</td>\n",
       "      <td>...</td>\n",
       "      <td>...</td>\n",
       "      <td>...</td>\n",
       "    </tr>\n",
       "    <tr>\n",
       "      <th>40097</th>\n",
       "      <td>zuverge01</td>\n",
       "      <td>1924.0</td>\n",
       "      <td>8.0</td>\n",
       "      <td>20.0</td>\n",
       "      <td>USA</td>\n",
       "      <td>MI</td>\n",
       "      <td>Holland</td>\n",
       "      <td>2014.0</td>\n",
       "      <td>9.0</td>\n",
       "      <td>8.0</td>\n",
       "      <td>...</td>\n",
       "      <td>1.0</td>\n",
       "      <td>2</td>\n",
       "      <td>4.0</td>\n",
       "      <td>0</td>\n",
       "      <td>333.0</td>\n",
       "      <td>16</td>\n",
       "      <td>28</td>\n",
       "      <td>NaN</td>\n",
       "      <td>NaN</td>\n",
       "      <td>NaN</td>\n",
       "    </tr>\n",
       "    <tr>\n",
       "      <th>40098</th>\n",
       "      <td>zuverge01</td>\n",
       "      <td>1924.0</td>\n",
       "      <td>8.0</td>\n",
       "      <td>20.0</td>\n",
       "      <td>USA</td>\n",
       "      <td>MI</td>\n",
       "      <td>Holland</td>\n",
       "      <td>2014.0</td>\n",
       "      <td>9.0</td>\n",
       "      <td>8.0</td>\n",
       "      <td>...</td>\n",
       "      <td>9.0</td>\n",
       "      <td>1</td>\n",
       "      <td>3.0</td>\n",
       "      <td>1</td>\n",
       "      <td>432.0</td>\n",
       "      <td>40</td>\n",
       "      <td>52</td>\n",
       "      <td>NaN</td>\n",
       "      <td>NaN</td>\n",
       "      <td>NaN</td>\n",
       "    </tr>\n",
       "    <tr>\n",
       "      <th>40099</th>\n",
       "      <td>zuverge01</td>\n",
       "      <td>1924.0</td>\n",
       "      <td>8.0</td>\n",
       "      <td>20.0</td>\n",
       "      <td>USA</td>\n",
       "      <td>MI</td>\n",
       "      <td>Holland</td>\n",
       "      <td>2014.0</td>\n",
       "      <td>9.0</td>\n",
       "      <td>8.0</td>\n",
       "      <td>...</td>\n",
       "      <td>13.0</td>\n",
       "      <td>1</td>\n",
       "      <td>4.0</td>\n",
       "      <td>0</td>\n",
       "      <td>475.0</td>\n",
       "      <td>37</td>\n",
       "      <td>37</td>\n",
       "      <td>NaN</td>\n",
       "      <td>NaN</td>\n",
       "      <td>NaN</td>\n",
       "    </tr>\n",
       "    <tr>\n",
       "      <th>40100</th>\n",
       "      <td>zuverge01</td>\n",
       "      <td>1924.0</td>\n",
       "      <td>8.0</td>\n",
       "      <td>20.0</td>\n",
       "      <td>USA</td>\n",
       "      <td>MI</td>\n",
       "      <td>Holland</td>\n",
       "      <td>2014.0</td>\n",
       "      <td>9.0</td>\n",
       "      <td>8.0</td>\n",
       "      <td>...</td>\n",
       "      <td>3.0</td>\n",
       "      <td>2</td>\n",
       "      <td>6.0</td>\n",
       "      <td>0</td>\n",
       "      <td>294.0</td>\n",
       "      <td>23</td>\n",
       "      <td>29</td>\n",
       "      <td>NaN</td>\n",
       "      <td>NaN</td>\n",
       "      <td>NaN</td>\n",
       "    </tr>\n",
       "    <tr>\n",
       "      <th>40101</th>\n",
       "      <td>zuverge01</td>\n",
       "      <td>1924.0</td>\n",
       "      <td>8.0</td>\n",
       "      <td>20.0</td>\n",
       "      <td>USA</td>\n",
       "      <td>MI</td>\n",
       "      <td>Holland</td>\n",
       "      <td>2014.0</td>\n",
       "      <td>9.0</td>\n",
       "      <td>8.0</td>\n",
       "      <td>...</td>\n",
       "      <td>0.0</td>\n",
       "      <td>1</td>\n",
       "      <td>0.0</td>\n",
       "      <td>0</td>\n",
       "      <td>55.0</td>\n",
       "      <td>1</td>\n",
       "      <td>7</td>\n",
       "      <td>NaN</td>\n",
       "      <td>NaN</td>\n",
       "      <td>NaN</td>\n",
       "    </tr>\n",
       "  </tbody>\n",
       "</table>\n",
       "<p>40102 rows × 53 columns</p>\n",
       "</div>"
      ],
      "text/plain": [
       "        playerID  birthYear  birthMonth  birthDay birthCountry birthState  \\\n",
       "0      aardsda01     1981.0        12.0      27.0          USA         CO   \n",
       "1      aardsda01     1981.0        12.0      27.0          USA         CO   \n",
       "2      aardsda01     1981.0        12.0      27.0          USA         CO   \n",
       "3      aardsda01     1981.0        12.0      27.0          USA         CO   \n",
       "4      aardsda01     1981.0        12.0      27.0          USA         CO   \n",
       "...          ...        ...         ...       ...          ...        ...   \n",
       "40097  zuverge01     1924.0         8.0      20.0          USA         MI   \n",
       "40098  zuverge01     1924.0         8.0      20.0          USA         MI   \n",
       "40099  zuverge01     1924.0         8.0      20.0          USA         MI   \n",
       "40100  zuverge01     1924.0         8.0      20.0          USA         MI   \n",
       "40101  zuverge01     1924.0         8.0      20.0          USA         MI   \n",
       "\n",
       "      birthCity  deathYear  deathMonth  deathDay  ...   IBB WP  HBP BK    BFP  \\\n",
       "0        Denver        NaN         NaN       NaN  ...   0.0  0  2.0  0   61.0   \n",
       "1        Denver        NaN         NaN       NaN  ...   0.0  1  1.0  0  225.0   \n",
       "2        Denver        NaN         NaN       NaN  ...   3.0  2  1.0  0  151.0   \n",
       "3        Denver        NaN         NaN       NaN  ...   2.0  3  5.0  0  228.0   \n",
       "4        Denver        NaN         NaN       NaN  ...   3.0  2  0.0  0  296.0   \n",
       "...         ...        ...         ...       ...  ...   ... ..  ... ..    ...   \n",
       "40097   Holland     2014.0         9.0       8.0  ...   1.0  2  4.0  0  333.0   \n",
       "40098   Holland     2014.0         9.0       8.0  ...   9.0  1  3.0  1  432.0   \n",
       "40099   Holland     2014.0         9.0       8.0  ...  13.0  1  4.0  0  475.0   \n",
       "40100   Holland     2014.0         9.0       8.0  ...   3.0  2  6.0  0  294.0   \n",
       "40101   Holland     2014.0         9.0       8.0  ...   0.0  1  0.0  0   55.0   \n",
       "\n",
       "       GF   R   SH   SF GIDP  \n",
       "0       5   8  0.0  1.0  1.0  \n",
       "1       9  25  1.0  3.0  2.0  \n",
       "2       7  24  2.0  1.0  1.0  \n",
       "3       7  32  3.0  2.0  4.0  \n",
       "4      53  23  2.0  1.0  2.0  \n",
       "...    ..  ..  ...  ...  ...  \n",
       "40097  16  28  NaN  NaN  NaN  \n",
       "40098  40  52  NaN  NaN  NaN  \n",
       "40099  37  37  NaN  NaN  NaN  \n",
       "40100  23  29  NaN  NaN  NaN  \n",
       "40101   1   7  NaN  NaN  NaN  \n",
       "\n",
       "[40102 rows x 53 columns]"
      ]
     },
     "metadata": {},
     "output_type": "display_data"
    }
   ],
   "source": [
    "# Merge the two dataframe using inner join, i.e., the given player must have\n",
    "# records in both dataframes to be kept in the merged dataframe\n",
    "people_pitching = people.merge(pitching, on='playerID', how='inner')\n",
    "display(people_pitching)"
   ]
  },
  {
   "cell_type": "markdown",
   "id": "cf6b613a",
   "metadata": {},
   "source": [
    "**1.4 —** You realize some of the data for the `throws` column is missing! Estimate the percentage of missing data points per year in that column, and show your estimates in a line plot. Additionally, print what percentage of the data was missing in 1892."
   ]
  },
  {
   "cell_type": "code",
   "execution_count": 29,
   "id": "556ec3a7",
   "metadata": {},
   "outputs": [
    {
     "data": {
      "text/plain": [
       "array(['R', 'L'], dtype=object)"
      ]
     },
     "execution_count": 29,
     "metadata": {},
     "output_type": "execute_result"
    }
   ],
   "source": []
  },
  {
   "cell_type": "markdown",
   "id": "96ede93d",
   "metadata": {},
   "source": [
    "**1.5 —** Filter the dataset you just merged (hereinafter `Pitching-People`) to just contain data from after 1920 (with 1920 included). Do the same with the `Salaries` dataset. Make deep copies of both dataframes as you filter them.\n",
    "\n"
   ]
  },
  {
   "cell_type": "markdown",
   "id": "27131c8e",
   "metadata": {},
   "source": [
    "**1.6 —**  Merge the `Pitching-People` dataframe with the `Salaries` dataframe. Your merge should populate the `Pitching-People` dataframe with statistics about the pitchers'salaries across the years. Note that the `Salaries` dataframe contains the salary **per year.** Print the resulting dataframe."
   ]
  },
  {
   "cell_type": "markdown",
   "id": "0555fd31",
   "metadata": {},
   "source": [
    "**1.7 —** You realize some of the data for the `salary` column is missing! Estimate the percentage of missing data points per year, and show your estimates in a line plot. Additionally, print what percentage of the data was missing in 2002.\n"
   ]
  },
  {
   "cell_type": "markdown",
   "id": "eca3d2cc",
   "metadata": {},
   "source": [
    "**1.8 —** Find and print the first and last year for which there exists any salary data. Filter the resulting, merged dataframe to include only data between these two dates. Again make sure you make a deep copy of the dataframe, and print the resulting dataframe."
   ]
  },
  {
   "cell_type": "markdown",
   "id": "b2352cb9",
   "metadata": {},
   "source": [
    "---\n",
    "\n",
    "# Task 2 (16 pts)\n",
    "\n",
    "Task 1, was a softball? Huh? For Task 2, you will use a dataset similar to what you obtained at the end of Task 1. This code loads it.\n"
   ]
  },
  {
   "cell_type": "code",
   "execution_count": null,
   "id": "11463fe3",
   "metadata": {},
   "outputs": [],
   "source": [
    "# PROVIDED CODE\n",
    "\n",
    "df = pd.read_csv(\"./data/dataset-task-2.csv\")\n",
    "df.head()"
   ]
  },
  {
   "cell_type": "markdown",
   "id": "25ff6e64",
   "metadata": {},
   "source": [
    "Some comments about this dataset:\n",
    "- This is a sample of the dataset obtained in Task 1. \n",
    "- Even if you  did everything correctly for Task 1, this dataframe would contain a different number of rows --- as it is a sample.\n",
    "- This prevent that mistakes made in Task 1 cascade into Tasks 2 and 3.\n",
    "\n",
    "\n",
    "With this data, you will proceed to investigate differences in the salaries and performance of left-handed and right-handed pitchers.\n",
    "\n",
    "---"
   ]
  },
  {
   "cell_type": "markdown",
   "id": "b8ecac1d",
   "metadata": {},
   "source": [
    "**2.1 —** Plot the Complementary cumulative distribution function (CCDF) of salary for left-handed and right-handed athletes. Consider data from all years."
   ]
  },
  {
   "cell_type": "markdown",
   "id": "d41cf3e9",
   "metadata": {},
   "source": [
    "**2.2 —** /Discuss:/ This plot has an issue which severely limits the amount of information one can draw from it. Describe the issue and propose a solution to address it."
   ]
  },
  {
   "cell_type": "markdown",
   "id": "c6cf047a",
   "metadata": {},
   "source": [
    "**2.3 —** Implement the solution proposed by yourself in the previous question."
   ]
  },
  {
   "cell_type": "markdown",
   "id": "9a6f5768",
   "metadata": {},
   "source": [
    "**2.4 —** /Discuss:/ Considering this second version of the plot, describe what the plot shows with regard to the distribution of salaries from left- and right-handed pitchers."
   ]
  },
  {
   "cell_type": "markdown",
   "id": "6042ffd7",
   "metadata": {},
   "source": [
    "**2.5—** Calculate the mean and the 95% confidence interval for the salary of left-handed and right-handed pitchers aggregating data across all years. Print the estimates. Additionally, present the estimates and the confidence intervals in a [point plot](https://seaborn.pydata.org/_images/pointplot_7_0.png). Calculate your confidence intervals using the standard error of the mean and ignoring missing values."
   ]
  },
  {
   "cell_type": "markdown",
   "id": "fb8e91fb",
   "metadata": {},
   "source": [
    "**2.6 —** /Discuss:/ Can you tell whether the difference between the two distributions is statistically significant (at the .05 level of significance) from the image? Why?"
   ]
  },
  {
   "cell_type": "markdown",
   "id": "3e317d60",
   "metadata": {},
   "source": [
    "**2.7 —** Perform a t-test test comparing the salaries of left-handed and right-handed pitchers at the .05 level of significance. Consider data from all years. /Discuss:/ Who earns more?"
   ]
  },
  {
   "cell_type": "markdown",
   "id": "a8bad3cf",
   "metadata": {},
   "source": [
    "---\n",
    "\n",
    "Now, let's turn to analyzing performance. A commonly used metric to evaluate the skill of a pitcher is to look at the batting average of the pitcher’s opponents. According to [Wikipedia](https://en.wikipedia.org/wiki/Batting_average_against),\n",
    "\n",
    "> In baseball statistics, batting average against (denoted by BAA or AVG), also known as opponents' batting average (denoted by OBA), is a statistic that measures a pitcher's ability to prevent hits during official at bats. It can alternatively be described as the league's hitters' combined batting average against the pitcher.\n",
    "\n",
    "The intuition is clear: if you are a pitcher, you do not want the batter actually to hit the ball. Thus, if you are a good pitcher, the opponent batter should miss a lot against you! Conveniently, this is already calculated on a yearly basis in our data.\n",
    "\n",
    "---"
   ]
  },
  {
   "cell_type": "markdown",
   "id": "e89c2cf1",
   "metadata": {},
   "source": [
    "**2.8 —** Considering data from all years, calculate the mean opponents' batting average for left- and right-handed pitchers. Run a t-test test to determine if this difference is statistically significant at the .05 level of significance. **Consider only pitchers in the years during which they have played atleast 5 games.** /Discuss:/ According to this approach, who are the better pitchers? Left-handed or right-handed pitchers?"
   ]
  },
  {
   "cell_type": "markdown",
   "id": "d4af00e9",
   "metadata": {},
   "source": [
    "# Task 3 (18 pts)\n",
    "\n",
    "Before you report your results to Mr. Russo, you decide to run them by your favorite Applied Data Analysis' TA, Ms. Sakota. She seems skeptical! According to her, you should take into account the time variable!"
   ]
  },
  {
   "cell_type": "markdown",
   "id": "8f845533",
   "metadata": {},
   "source": [
    "**3.1 —** Repeat the analysis from tasks 2.7 and 2.8 considering only data from the year 2000. That is, use a t-test to determine the distribution of salaries (2.7) and opponents' batting average (2.8) for all data of the year 2000 only. "
   ]
  },
  {
   "cell_type": "markdown",
   "id": "f31ef97f",
   "metadata": {},
   "source": [
    "**3.2 —** Create a single plot with 14 inches of width and 4 inches of height. The plot should contain three panels:\n",
    "- Panel A: The percentage of left-handed pitchers per year;\n",
    "- Panel B: The average salary of all pitchers per year\n",
    "- Panel C: The average opponents' batting average of all pitchers per year.\n",
    "\n",
    "Additionally, print, for the year 2007:\n",
    "- the percentage of left-handed pitchers.\n",
    "- the average salary.\n",
    "- the average  opponents' batting average."
   ]
  },
  {
   "cell_type": "markdown",
   "id": "388cc0f1",
   "metadata": {},
   "source": [
    "**3.3 —** Create a single plot with 10 inches of width and 4 inches of height. The plot should contain two panels: \n",
    "- Panel A: The average salary for left and right-handed pitchers per year, show 95% confidence intervals in your plot.\n",
    "- Panel B: The average opponents' batting average for left and right-handed pitchers across the years, show 95% confidence intervals in your plot.\n",
    "\n",
    "\n",
    "Additionally, print, for the year 1999:\n",
    "- the average salary of left-handed pitchers.\n",
    "- the average opponents' batting average of right-handed pitchers."
   ]
  },
  {
   "cell_type": "markdown",
   "id": "2e1df840",
   "metadata": {},
   "source": [
    "**3.4 —** /Discuss:/ Contrast the results obtained in Tasks 3.1 / 3.3 / 3.3 with the results obtained in Tasks 2.7 and 2.8. Are left-handed better than right-handed pitchers? Do they earn better salaries? Explain why the analysis might have reached different results."
   ]
  },
  {
   "cell_type": "markdown",
   "id": "8142c160",
   "metadata": {},
   "source": [
    "**3.5 —** Before showing the final results to Mr. Russo, you pass them by Ms. Sakota once more. She looks happier now, but still looks a bit concerned. She asks you to perform a sanity check on the missing data for the period you are considering. Specifically, she is worried that there are significantly more missing salaries for left-handed pitchers or for right-handed pitchers.\n",
    "\n",
    "- Create a plot with 10 inches of width and 4 inches of height. The plot should depict the fraction of missing salary  salary for left and right-handed pitchers per year, show 95% confidence intervals in your plot. \n",
    "- Print the fraction of left-handed pitchers with salary data missing for the year 2002. \n",
    "- /Discuss:/ According to the plot, are there significantly more missing salaries for left-handed pitchers?\n"
   ]
  },
  {
   "cell_type": "markdown",
   "id": "259f7dca",
   "metadata": {},
   "source": [
    "**3.6 –**  /Discuss:/ If 95% of the salaries of right-handed pitchers were missing and none for the left-handed pitchers, what problem could you envision could happen downstream when you analyzed the data?"
   ]
  }
 ],
 "metadata": {
  "kernelspec": {
   "display_name": "Python 3 (ipykernel)",
   "language": "python",
   "name": "python3"
  },
  "language_info": {
   "codemirror_mode": {
    "name": "ipython",
    "version": 3
   },
   "file_extension": ".py",
   "mimetype": "text/x-python",
   "name": "python",
   "nbconvert_exporter": "python",
   "pygments_lexer": "ipython3",
   "version": "3.9.18"
  }
 },
 "nbformat": 4,
 "nbformat_minor": 5
}
